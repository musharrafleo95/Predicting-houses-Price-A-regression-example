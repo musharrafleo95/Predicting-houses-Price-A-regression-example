{
 "cells": [
  {
   "cell_type": "code",
   "execution_count": 1,
   "metadata": {},
   "outputs": [
    {
     "name": "stderr",
     "output_type": "stream",
     "text": [
      "Using TensorFlow backend.\n"
     ]
    }
   ],
   "source": [
    "from keras.datasets import boston_housing"
   ]
  },
  {
   "cell_type": "code",
   "execution_count": 2,
   "metadata": {},
   "outputs": [],
   "source": [
    "(train_data, train_targets), (test_data, test_targets) = boston_housing.load_data()"
   ]
  },
  {
   "cell_type": "code",
   "execution_count": 3,
   "metadata": {},
   "outputs": [
    {
     "data": {
      "text/plain": [
       "(404, 13)"
      ]
     },
     "execution_count": 3,
     "metadata": {},
     "output_type": "execute_result"
    }
   ],
   "source": [
    "train_data.shape"
   ]
  },
  {
   "cell_type": "code",
   "execution_count": 4,
   "metadata": {},
   "outputs": [
    {
     "data": {
      "text/plain": [
       "(102, 13)"
      ]
     },
     "execution_count": 4,
     "metadata": {},
     "output_type": "execute_result"
    }
   ],
   "source": [
    "test_data.shape"
   ]
  },
  {
   "cell_type": "code",
   "execution_count": 5,
   "metadata": {},
   "outputs": [
    {
     "data": {
      "text/plain": [
       "array([ 18.0846,   0.    ,  18.1   ,   0.    ,   0.679 ,   6.434 ,\n",
       "       100.    ,   1.8347,  24.    , 666.    ,  20.2   ,  27.25  ,\n",
       "        29.05  ])"
      ]
     },
     "execution_count": 5,
     "metadata": {},
     "output_type": "execute_result"
    }
   ],
   "source": [
    "test_data[0]"
   ]
  },
  {
   "cell_type": "code",
   "execution_count": 6,
   "metadata": {},
   "outputs": [
    {
     "data": {
      "text/plain": [
       "7.2"
      ]
     },
     "execution_count": 6,
     "metadata": {},
     "output_type": "execute_result"
    }
   ],
   "source": [
    "test_targets[0]"
   ]
  },
  {
   "cell_type": "code",
   "execution_count": 7,
   "metadata": {},
   "outputs": [
    {
     "data": {
      "text/plain": [
       "13"
      ]
     },
     "execution_count": 7,
     "metadata": {},
     "output_type": "execute_result"
    }
   ],
   "source": [
    "mean = train_data.mean(axis = 0)\n",
    "len(mean)"
   ]
  },
  {
   "cell_type": "code",
   "execution_count": 8,
   "metadata": {},
   "outputs": [],
   "source": [
    "mean = train_data.mean(axis = 0)\n",
    "training_data = train_data-mean\n",
    "std = train_data.std(axis = 0)\n",
    "training_data /= std\n",
    "training_targets = train_targets\n",
    "\n",
    "testing_data = test_data - mean #we always use quantities from training data in order to normalize test data and never use any quantity computed from test data\n",
    "testing_data /= std\n",
    "testing_targets = test_targets"
   ]
  },
  {
   "cell_type": "code",
   "execution_count": 9,
   "metadata": {},
   "outputs": [
    {
     "data": {
      "text/plain": [
       "13"
      ]
     },
     "execution_count": 9,
     "metadata": {},
     "output_type": "execute_result"
    }
   ],
   "source": [
    "training_data.shape[1]"
   ]
  },
  {
   "cell_type": "code",
   "execution_count": 10,
   "metadata": {},
   "outputs": [],
   "source": [
    "from keras import models\n",
    "from keras import layers\n",
    "\n",
    "def build_model():\n",
    "    model = models.Sequential()\n",
    "    model.add(layers.Dense(64, activation='relu',\n",
    "                           input_shape=(train_data.shape[1],)))\n",
    "    model.add(layers.Dense(64, activation='relu'))\n",
    "    model.add(layers.Dense(1)) #no activation function b/c we dont want the values to be constraint between zero and one. it willl be a linear layer\n",
    "    model.compile(optimizer='rmsprop', loss='mse', metrics=['mae']) # mean squared error a widely used loss function for regression\n",
    "    return model"
   ]
  },
  {
   "cell_type": "markdown",
   "metadata": {},
   "source": [
    "You are also monitoring a new metric during called MAE. It is the absolute value of the difference between predicted value and the target value"
   ]
  },
  {
   "cell_type": "code",
   "execution_count": 11,
   "metadata": {},
   "outputs": [
    {
     "name": "stdout",
     "output_type": "stream",
     "text": [
      "101\n"
     ]
    }
   ],
   "source": [
    "#Using K fold because of less number of data Samples\n",
    "import numpy as np\n",
    "k = 4\n",
    "num_val_samples = len(training_data) // k #integer division\n",
    "print(num_val_samples)\n",
    "num_epochs = 100\n",
    "all_scores = []"
   ]
  },
  {
   "cell_type": "code",
   "execution_count": 12,
   "metadata": {},
   "outputs": [
    {
     "name": "stdout",
     "output_type": "stream",
     "text": [
      "Processing field # 0\n",
      "Processing field # 1\n",
      "Processing field # 2\n",
      "Processing field # 3\n"
     ]
    }
   ],
   "source": [
    "for i in range(k):\n",
    "    print(\"Processing field #\", i)\n",
    "    #prepairing the validation data:data from partition K\n",
    "    val_data = training_data[i*num_val_samples:(i+1)*num_val_samples]      \n",
    "    val_targets = training_targets[i*num_val_samples:(i+1)*num_val_samples]\n",
    "    #prepairing training data from all other partitions\n",
    "    partial_train_data = np.concatenate([\n",
    "        training_data[:i*num_val_samples],\n",
    "        training_data[(i+1)*num_val_samples:]\n",
    "    ], axis = 0)\n",
    "    partial_train_target = np.concatenate([\n",
    "        training_targets[:i*num_val_samples],\n",
    "        training_targets[(i+1)*num_val_samples:]\n",
    "    ],axis = 0)\n",
    "    \n",
    "   \n",
    "    model = build_model()\n",
    "    model.fit(partial_train_data, partial_train_target,\n",
    "             epochs = num_epochs, batch_size = 1, verbose = 0)\n",
    "    val_mse, val_mae = model.evaluate(val_data, val_targets, verbose = 0)\n",
    "    all_scores.append(val_mae)\n",
    "    "
   ]
  },
  {
   "cell_type": "code",
   "execution_count": 13,
   "metadata": {},
   "outputs": [
    {
     "data": {
      "text/plain": [
       "[2.119223643057417, 2.2643502915259637, 2.883980311969719, 2.3768927691006425]"
      ]
     },
     "execution_count": 13,
     "metadata": {},
     "output_type": "execute_result"
    }
   ],
   "source": [
    "all_scores"
   ]
  },
  {
   "cell_type": "code",
   "execution_count": 14,
   "metadata": {},
   "outputs": [
    {
     "data": {
      "text/plain": [
       "2.4111117539134357"
      ]
     },
     "execution_count": 14,
     "metadata": {},
     "output_type": "execute_result"
    }
   ],
   "source": [
    "np.mean(all_scores)"
   ]
  },
  {
   "cell_type": "code",
   "execution_count": 15,
   "metadata": {},
   "outputs": [
    {
     "name": "stdout",
     "output_type": "stream",
     "text": [
      "processing fold # 0\n",
      "processing fold # 1\n",
      "processing fold # 2\n",
      "processing fold # 3\n"
     ]
    }
   ],
   "source": [
    "# now doing on 500 epochs and also keeping a record of MAE log\n",
    "num_epochs = 500\n",
    "all_mae_histories = []\n",
    "for i in range(k):\n",
    "    print('processing fold #', i)\n",
    "    val_data = training_data[i * num_val_samples: (i + 1) * num_val_samples]\n",
    "    val_targets = training_targets[i * num_val_samples: (i + 1) * num_val_samples]\n",
    "    partial_train_data = np.concatenate(\n",
    "        [training_data[:i * num_val_samples],\n",
    "         training_data[(i + 1) * num_val_samples:]],\n",
    "        axis=0)\n",
    "    partial_train_targets = np.concatenate(\n",
    "        [training_targets[:i * num_val_samples],\n",
    "         training_targets[(i + 1) * num_val_samples:]],\n",
    "        axis=0)\n",
    "\n",
    "    model = build_model()\n",
    "    history = model.fit(partial_train_data, partial_train_targets,\n",
    "                        validation_data=(val_data, val_targets),\n",
    "                        epochs=num_epochs, batch_size=1, verbose=0)\n",
    "    mae_history = history.history['val_mean_absolute_error']\n",
    "    all_mae_histories.append(mae_history)\n",
    "    "
   ]
  },
  {
   "cell_type": "code",
   "execution_count": 16,
   "metadata": {
    "scrolled": true
   },
   "outputs": [
    {
     "data": {
      "text/plain": [
       "500"
      ]
     },
     "execution_count": 16,
     "metadata": {},
     "output_type": "execute_result"
    }
   ],
   "source": [
    "len(all_mae_histories[1])\n"
   ]
  },
  {
   "cell_type": "code",
   "execution_count": 17,
   "metadata": {},
   "outputs": [],
   "source": [
    "average_mae_history = [ np.mean([x[i] for x in all_mae_histories]) for i in range(num_epochs)]"
   ]
  },
  {
   "cell_type": "code",
   "execution_count": 18,
   "metadata": {},
   "outputs": [
    {
     "data": {
      "text/plain": [
       "500"
      ]
     },
     "execution_count": 18,
     "metadata": {},
     "output_type": "execute_result"
    }
   ],
   "source": [
    "len(average_mae_history)"
   ]
  },
  {
   "cell_type": "code",
   "execution_count": 19,
   "metadata": {},
   "outputs": [
    {
     "data": {
      "text/plain": [
       "[4.79613472211479,\n",
       " 3.3874947198546757,\n",
       " 3.061064179580991,\n",
       " 2.7474941499162426,\n",
       " 2.7978941426418795,\n",
       " 2.701966881752014,\n",
       " 2.639529546888748,\n",
       " 2.6311867744615762,\n",
       " 2.5633249365457216,\n",
       " 2.593403676948925,\n",
       " 2.494403673870729,\n",
       " 2.730360480818418,\n",
       " 2.515659194181461,\n",
       " 2.4047387885575247,\n",
       " 2.4346369457716985,\n",
       " 2.4282088067271923,\n",
       " 2.476321812903527,\n",
       " 2.441635802240655,\n",
       " 2.368225863664457,\n",
       " 2.4954257648770173,\n",
       " 2.3873931865880986,\n",
       " 2.3551356402954253,\n",
       " 2.314097808139159,\n",
       " 2.3441840587276044,\n",
       " 2.5017445111038663,\n",
       " 2.331474520192288,\n",
       " 2.2929171536228443,\n",
       " 2.402937134893814,\n",
       " 2.3169300922072757,\n",
       " 2.4441988503578864,\n",
       " 2.3648776760195744,\n",
       " 2.496896736692674,\n",
       " 2.328195074997326,\n",
       " 2.450212254382596,\n",
       " 2.4291698720195507,\n",
       " 2.2870129842569336,\n",
       " 2.3806249304573135,\n",
       " 2.325921076359135,\n",
       " 2.305331001187315,\n",
       " 2.3688454627990723,\n",
       " 2.2733481874560364,\n",
       " 2.3083629431110797,\n",
       " 2.301995881713263,\n",
       " 2.2875553770820694,\n",
       " 2.223728331598905,\n",
       " 2.47116483438133,\n",
       " 2.2884732484817505,\n",
       " 2.3598018306316715,\n",
       " 2.3593698315101097,\n",
       " 2.310738689828627,\n",
       " 2.2824355534987877,\n",
       " 2.303122349304728,\n",
       " 2.514991290498488,\n",
       " 2.4897406278270307,\n",
       " 2.3494771105228085,\n",
       " 2.32875407804357,\n",
       " 2.3587560594672023,\n",
       " 2.3357330489866803,\n",
       " 2.3154784393782664,\n",
       " 2.364464033948313,\n",
       " 2.431607474194895,\n",
       " 2.3695827793366835,\n",
       " 2.4582815294218534,\n",
       " 2.3224785198079476,\n",
       " 2.3397530706802216,\n",
       " 2.2759059230879983,\n",
       " 2.357355800005469,\n",
       " 2.3478962584297256,\n",
       " 2.4418971609361098,\n",
       " 2.4255335773571884,\n",
       " 2.388546229589103,\n",
       " 2.3827109879786423,\n",
       " 2.3319337308996975,\n",
       " 2.446444902089563,\n",
       " 2.4899172936335647,\n",
       " 2.412933562061574,\n",
       " 2.504876414147934,\n",
       " 2.4678829589692675,\n",
       " 2.739145869075662,\n",
       " 2.3921320827880708,\n",
       " 2.3508029385368423,\n",
       " 2.5215904641859606,\n",
       " 2.3214828271677,\n",
       " 2.3874439060097874,\n",
       " 2.325265908005214,\n",
       " 2.347095222756414,\n",
       " 2.5075536128317957,\n",
       " 2.4314011358978727,\n",
       " 2.4542283197440726,\n",
       " 2.560427954881498,\n",
       " 2.5504746366255353,\n",
       " 2.396071723192045,\n",
       " 2.421497098290094,\n",
       " 2.335870366285343,\n",
       " 2.391734532790609,\n",
       " 2.3821061448295517,\n",
       " 2.703190666614193,\n",
       " 2.332076195443031,\n",
       " 2.479386252932029,\n",
       " 2.509578859451974,\n",
       " 2.4974369955534983,\n",
       " 2.4018102825278103,\n",
       " 2.453071104417933,\n",
       " 2.4066099530399434,\n",
       " 2.6249048757080984,\n",
       " 2.4065812625507315,\n",
       " 2.4194254226023606,\n",
       " 2.631893772890072,\n",
       " 2.4543396187300726,\n",
       " 2.4451401233673096,\n",
       " 2.4535771927030963,\n",
       " 2.5047565911075855,\n",
       " 2.4777689168948935,\n",
       " 2.507200648288916,\n",
       " 2.6340557301398553,\n",
       " 2.4916287235694354,\n",
       " 2.4810769487135484,\n",
       " 2.483907174355913,\n",
       " 2.6707626994293516,\n",
       " 2.5963658731762727,\n",
       " 2.589113150492753,\n",
       " 2.5126152817565615,\n",
       " 2.4683454508828646,\n",
       " 2.4782625802672738,\n",
       " 2.5521186094472905,\n",
       " 2.493176518100323,\n",
       " 2.5168836600709668,\n",
       " 2.495791795230148,\n",
       " 2.4299033443526468,\n",
       " 2.4786089835780682,\n",
       " 2.328723660790094,\n",
       " 2.5034098814029506,\n",
       " 2.5959585185098177,\n",
       " 2.4579283152476394,\n",
       " 2.4143256739814682,\n",
       " 2.5139286057783825,\n",
       " 2.54265293036357,\n",
       " 2.4109625934374215,\n",
       " 2.374551066077582,\n",
       " 2.587167520334225,\n",
       " 2.5765370036115742,\n",
       " 2.4430047108395265,\n",
       " 2.5572140747957888,\n",
       " 2.5110184213902693,\n",
       " 2.635320795644628,\n",
       " 2.660678518880712,\n",
       " 2.4605151296842216,\n",
       " 2.5886575066217103,\n",
       " 2.6387561583282926,\n",
       " 2.612558550173693,\n",
       " 2.550661360863412,\n",
       " 2.8642597894857427,\n",
       " 2.6361759098449555,\n",
       " 2.5865444617696327,\n",
       " 2.5430445128148143,\n",
       " 2.5603478816476195,\n",
       " 2.571006216625176,\n",
       " 2.722488514267572,\n",
       " 2.6452690870454996,\n",
       " 2.574811032502958,\n",
       " 2.6300006786195356,\n",
       " 2.6406445208162364,\n",
       " 2.567481956859626,\n",
       " 2.6460127429206772,\n",
       " 2.6387278655968087,\n",
       " 2.6638845724634606,\n",
       " 2.653600597145534,\n",
       " 2.6827221990811942,\n",
       " 2.563738193842444,\n",
       " 2.655156150902852,\n",
       " 2.6781476736068726,\n",
       " 2.7435052335852443,\n",
       " 2.595321624585898,\n",
       " 2.5640321438855462,\n",
       " 2.87518045571771,\n",
       " 2.7252324099587923,\n",
       " 2.6734532826017623,\n",
       " 2.6253335110031735,\n",
       " 2.7645265536733192,\n",
       " 2.5667447382860846,\n",
       " 2.5897165300822493,\n",
       " 2.739281066573492,\n",
       " 2.7195308597961274,\n",
       " 2.668438275261681,\n",
       " 2.6180920329424415,\n",
       " 2.587415983181189,\n",
       " 2.6273836593816777,\n",
       " 2.5863604097083064,\n",
       " 2.5541260856212955,\n",
       " 2.664273803777034,\n",
       " 2.639626185492714,\n",
       " 2.60999866641394,\n",
       " 2.695504613441996,\n",
       " 2.639742542021345,\n",
       " 2.633388935929478,\n",
       " 2.659930432196891,\n",
       " 2.6430617004337877,\n",
       " 2.6349392739853057,\n",
       " 2.6466655506946073,\n",
       " 2.7964129695797917,\n",
       " 2.637277435548235,\n",
       " 2.628718660609557,\n",
       " 2.617778713160222,\n",
       " 2.6235362043475163,\n",
       " 2.5933140787747826,\n",
       " 2.7562517529667017,\n",
       " 2.728627784417408,\n",
       " 2.6682687549307795,\n",
       " 2.6645322506970697,\n",
       " 2.680774211883545,\n",
       " 2.753621199343464,\n",
       " 2.7836056310351536,\n",
       " 2.8525779754808633,\n",
       " 2.5489973231117324,\n",
       " 2.696208134736165,\n",
       " 2.7060188775015352,\n",
       " 2.6160504912385845,\n",
       " 2.5874542434616847,\n",
       " 2.7578847679761376,\n",
       " 2.692046871279726,\n",
       " 2.7042703959021237,\n",
       " 2.6552664549043863,\n",
       " 2.629453650795587,\n",
       " 2.6461676654249136,\n",
       " 2.6040908192644023,\n",
       " 2.5821282568544444,\n",
       " 2.6586388266912784,\n",
       " 2.6805524342130904,\n",
       " 2.654442532227771,\n",
       " 2.699738605187671,\n",
       " 2.661813351187375,\n",
       " 2.625585363643004,\n",
       " 2.6966753242039445,\n",
       " 2.6311755605263283,\n",
       " 2.6815134121639894,\n",
       " 2.641614558673141,\n",
       " 2.7565503144028165,\n",
       " 2.628971259192665,\n",
       " 2.735076638731626,\n",
       " 2.6831424814639706,\n",
       " 2.594554915286527,\n",
       " 2.5244614180952016,\n",
       " 2.6070476251073407,\n",
       " 2.5999706747508284,\n",
       " 2.6250520649522837,\n",
       " 2.699601690367897,\n",
       " 2.593015454783298,\n",
       " 2.7738798325604734,\n",
       " 2.698099146975149,\n",
       " 2.614152214314678,\n",
       " 2.6912099783963495,\n",
       " 2.846283120684104,\n",
       " 2.6510449057758447,\n",
       " 2.983617565419414,\n",
       " 2.7422572574993174,\n",
       " 2.7285672815719453,\n",
       " 2.6377371679438224,\n",
       " 2.6164319916526866,\n",
       " 2.6992904915667997,\n",
       " 2.584199665796639,\n",
       " 2.7564752928101193,\n",
       " 2.695421865670988,\n",
       " 2.7319346052585263,\n",
       " 2.59740669538479,\n",
       " 2.7023606536412004,\n",
       " 2.57153856046129,\n",
       " 2.5854011254735516,\n",
       " 2.6285873875759616,\n",
       " 2.7869004825554273,\n",
       " 2.7152132020138278,\n",
       " 2.5954167099282293,\n",
       " 2.62337867576297,\n",
       " 2.6215632174274712,\n",
       " 2.6276449401779933,\n",
       " 2.6009228642624205,\n",
       " 2.6445004161041563,\n",
       " 2.6827671043943653,\n",
       " 2.561177496862884,\n",
       " 2.7008218989513884,\n",
       " 2.6092928518163094,\n",
       " 2.7331501564176954,\n",
       " 2.707873781128685,\n",
       " 2.6313527869706106,\n",
       " 2.649403725520219,\n",
       " 2.6672091047362523,\n",
       " 2.625388981092094,\n",
       " 2.7252119189441797,\n",
       " 2.558802863158802,\n",
       " 2.611040149584855,\n",
       " 2.5901490166635797,\n",
       " 2.592148722988544,\n",
       " 2.663472811774452,\n",
       " 2.5871662597845098,\n",
       " 2.6598090393708484,\n",
       " 2.595455700808232,\n",
       " 2.5621979531675283,\n",
       " 2.6849392841357997,\n",
       " 2.665832757949829,\n",
       " 2.7208503567346254,\n",
       " 2.6256025026340293,\n",
       " 2.5660215521803,\n",
       " 2.642762980838813,\n",
       " 2.650897707089339,\n",
       " 2.6032859582712153,\n",
       " 2.571889629458437,\n",
       " 2.564481468483953,\n",
       " 2.6263926513124223,\n",
       " 2.5796897057259436,\n",
       " 2.5783782819710157,\n",
       " 2.7106034755706787,\n",
       " 2.7018088704288594,\n",
       " 2.7256417557744697,\n",
       " 2.7476811326376285,\n",
       " 2.556574758916798,\n",
       " 2.594819255394511,\n",
       " 2.712358589219575,\n",
       " 2.5550927856180925,\n",
       " 2.6128973937270663,\n",
       " 2.786238030631943,\n",
       " 2.628757882826399,\n",
       " 2.6753490738349384,\n",
       " 2.690179726274887,\n",
       " 2.6512553514820514,\n",
       " 2.6064513178154973,\n",
       " 2.6169081607667524,\n",
       " 2.7012976939135256,\n",
       " 2.6115023062960936,\n",
       " 2.64356264737573,\n",
       " 2.5535654219070283,\n",
       " 2.664170775083032,\n",
       " 2.62006143414148,\n",
       " 2.6573169243217696,\n",
       " 2.67827847688505,\n",
       " 2.559451681552547,\n",
       " 2.7013152719724296,\n",
       " 2.6292746798826916,\n",
       " 2.750998239706058,\n",
       " 2.6588109235952397,\n",
       " 2.689029123523448,\n",
       " 2.6668166842791114,\n",
       " 2.5750391318066286,\n",
       " 2.720212963548037,\n",
       " 2.5947993108541656,\n",
       " 2.5084676034379716,\n",
       " 2.540486941243162,\n",
       " 2.749707046121654,\n",
       " 2.774918774567028,\n",
       " 2.649938477147924,\n",
       " 2.6657320744920483,\n",
       " 2.7111621658400735,\n",
       " 2.60252050007924,\n",
       " 2.59335994720459,\n",
       " 2.702808631528722,\n",
       " 2.656224238990557,\n",
       " 2.548534578616076,\n",
       " 2.6852051940294777,\n",
       " 2.630037003224439,\n",
       " 2.6176387732571893,\n",
       " 2.579846710261732,\n",
       " 2.5570617831579527,\n",
       " 2.628591767632135,\n",
       " 2.609309139818248,\n",
       " 2.648719634159957,\n",
       " 2.541863983220393,\n",
       " 2.646347127338447,\n",
       " 2.5995585056814816,\n",
       " 2.6021160123371843,\n",
       " 2.610330920408268,\n",
       " 2.66722841546087,\n",
       " 2.713349908885389,\n",
       " 2.577619178460376,\n",
       " 2.734988533624328,\n",
       " 2.589732958538698,\n",
       " 2.5372184048784843,\n",
       " 2.524552541204018,\n",
       " 2.52044945070059,\n",
       " 2.6204869782570563,\n",
       " 2.6675686039546926,\n",
       " 2.650376062582035,\n",
       " 2.659807001010026,\n",
       " 2.6027135376883024,\n",
       " 2.6701077057583498,\n",
       " 2.5449843501100444,\n",
       " 2.7438520877668173,\n",
       " 2.5530089080923855,\n",
       " 2.5737040078285895,\n",
       " 2.662181847166307,\n",
       " 2.5755631097472538,\n",
       " 2.5811222614628253,\n",
       " 2.6437890140136866,\n",
       " 2.703846524257471,\n",
       " 2.6627119567134594,\n",
       " 2.6271626477194303,\n",
       " 2.6272476758107097,\n",
       " 2.646780228850865,\n",
       " 2.654582338758034,\n",
       " 2.6132228964626196,\n",
       " 2.68712056863426,\n",
       " 2.629905569671404,\n",
       " 2.5290197234342595,\n",
       " 2.7349502456070174,\n",
       " 2.6208126627572694,\n",
       " 2.6670912964509266,\n",
       " 2.621932145392541,\n",
       " 2.5779094436381125,\n",
       " 2.6705631808479233,\n",
       " 2.5582991035858003,\n",
       " 2.5541462414335494,\n",
       " 2.54211952426646,\n",
       " 2.660257620976703,\n",
       " 2.636180627464068,\n",
       " 2.7320370815768102,\n",
       " 2.666735040669394,\n",
       " 2.5624812204058807,\n",
       " 2.5692304573436773,\n",
       " 2.615879652523758,\n",
       " 2.5351564453379942,\n",
       " 2.7032342228558983,\n",
       " 2.616716659895264,\n",
       " 2.584885555918854,\n",
       " 2.591973887811793,\n",
       " 2.610952635802845,\n",
       " 2.626566506848477,\n",
       " 2.6049160591446525,\n",
       " 2.6392314953379112,\n",
       " 2.5695217777006696,\n",
       " 2.667454011959605,\n",
       " 2.5658235585335456,\n",
       " 2.5914626522819595,\n",
       " 2.5813421760455215,\n",
       " 2.578134066987746,\n",
       " 2.6428727985608695,\n",
       " 2.5873031067376093,\n",
       " 2.6540987645045364,\n",
       " 2.5604393924817,\n",
       " 2.5918243344467466,\n",
       " 2.547797505218204,\n",
       " 2.614841173190882,\n",
       " 2.642634106154489,\n",
       " 2.6244750742865084,\n",
       " 2.582910209008963,\n",
       " 2.663794417782585,\n",
       " 2.5539016198403766,\n",
       " 2.645750631200205,\n",
       " 2.599652919438806,\n",
       " 2.6056660236698566,\n",
       " 2.595023001774703,\n",
       " 2.637271190043723,\n",
       " 2.5916980853175176,\n",
       " 2.640852627187672,\n",
       " 2.5576013904986996,\n",
       " 2.6543741527170237,\n",
       " 2.660580269180902,\n",
       " 2.642639484735999,\n",
       " 2.541785151061445,\n",
       " 2.5435525379558603,\n",
       " 2.614363175807613,\n",
       " 2.5994986401926172,\n",
       " 2.599369914224832,\n",
       " 2.6843397428493687,\n",
       " 2.521979137222366,\n",
       " 2.610135479728774,\n",
       " 2.590804672477269,\n",
       " 2.5701932092704394,\n",
       " 2.6850563689033584,\n",
       " 2.6753323691906314,\n",
       " 2.6484329222452523,\n",
       " 2.4950689466873017,\n",
       " 2.6510499391225304,\n",
       " 2.6705292486908414,\n",
       " 2.604402573982088,\n",
       " 2.6309313337401585,\n",
       " 2.618815071511977,\n",
       " 2.560751208574465,\n",
       " 2.5189864328592133,\n",
       " 2.5590070934578923,\n",
       " 2.6433619632579313,\n",
       " 2.6744792024687962,\n",
       " 2.6052049481042543,\n",
       " 2.6396953599287736,\n",
       " 2.575564452917269,\n",
       " 2.587968928979175,\n",
       " 2.618031691796709,\n",
       " 2.621174092930142,\n",
       " 2.5542102981321886,\n",
       " 2.665071500409948,\n",
       " 2.5808422541854408,\n",
       " 2.5762550187583013,\n",
       " 2.5792062648452156,\n",
       " 2.682435894956683,\n",
       " 2.690695567886428,\n",
       " 2.7039934597393076,\n",
       " 2.665960454704738,\n",
       " 2.5944018753448335,\n",
       " 2.620672833801496,\n",
       " 2.669641688318536,\n",
       " 2.661924726892226,\n",
       " 2.627091696946928,\n",
       " 2.533141811295311,\n",
       " 2.5692156187378536]"
      ]
     },
     "execution_count": 19,
     "metadata": {},
     "output_type": "execute_result"
    }
   ],
   "source": [
    "average_mae_history"
   ]
  },
  {
   "cell_type": "code",
   "execution_count": 20,
   "metadata": {},
   "outputs": [],
   "source": [
    "#Same code as above\n",
    "all_average=[]\n",
    "for i in range(num_epochs):\n",
    "    x1 = []\n",
    "    for x in all_mae_histories:\n",
    "        x1.append(x[i])\n",
    "    all_average.append(np.mean(x1))    "
   ]
  },
  {
   "cell_type": "code",
   "execution_count": 21,
   "metadata": {},
   "outputs": [
    {
     "data": {
      "text/plain": [
       "500"
      ]
     },
     "execution_count": 21,
     "metadata": {},
     "output_type": "execute_result"
    }
   ],
   "source": [
    "len(all_average) #same as average_mae_history"
   ]
  },
  {
   "cell_type": "code",
   "execution_count": 26,
   "metadata": {},
   "outputs": [
    {
     "data": {
      "image/png": "[encoded data removed]",
      "text/plain": [
       "<Figure size 432x288 with 1 Axes>"
      ]
     },
     "metadata": {
      "needs_background": "light"
     },
     "output_type": "display_data"
    }
   ],
   "source": [
    "import matplotlib.pyplot as plt\n",
    "\n",
    "plt.plot(range(1, len(average_mae_history) + 1), average_mae_history)\n",
    "plt.xlabel('Epochs')\n",
    "plt.ylabel('Validation MAE')\n",
    "plt.show()"
   ]
  },
  {
   "cell_type": "code",
   "execution_count": 23,
   "metadata": {},
   "outputs": [
    {
     "data": {
      "image/png": "[encoded data removed]",
      "text/plain": [
       "<Figure size 432x288 with 1 Axes>"
      ]
     },
     "metadata": {
      "needs_background": "light"
     },
     "output_type": "display_data"
    }
   ],
   "source": [
    "def smooth_curve(points, factor=0.9):\n",
    "  smoothed_points = []\n",
    "  for point in points:\n",
    "    if smoothed_points:\n",
    "      previous = smoothed_points[-1]\n",
    "      smoothed_points.append(previous * factor + point * (1 - factor))\n",
    "    else:\n",
    "      smoothed_points.append(point)\n",
    "  return smoothed_points\n",
    "\n",
    "smooth_mae_history = smooth_curve(average_mae_history[10:])\n",
    "\n",
    "plt.plot(range(1, len(smooth_mae_history) + 1), smooth_mae_history)\n",
    "plt.xlabel('Epochs')\n",
    "plt.ylabel('Validation MAE')\n",
    "plt.show()"
   ]
  },
  {
   "cell_type": "code",
   "execution_count": 30,
   "metadata": {},
   "outputs": [
    {
     "name": "stdout",
     "output_type": "stream",
     "text": [
      "102/102 [==============================] - 0s 613us/step\n"
     ]
    }
   ],
   "source": [
    "model = build_model()\n",
    "model.fit(training_data, training_targets,\n",
    "          epochs=80, batch_size=16, verbose=0)\n",
    "test_mse_score, test_mae_score = model.evaluate(testing_data, testing_targets)\n"
   ]
  },
  {
   "cell_type": "code",
   "execution_count": 31,
   "metadata": {},
   "outputs": [
    {
     "data": {
      "text/plain": [
       "2.7115838667925667"
      ]
     },
     "execution_count": 31,
     "metadata": {},
     "output_type": "execute_result"
    }
   ],
   "source": [
    "test_mae_score"
   ]
  }
 ],
 "metadata": {
  "kernelspec": {
   "display_name": "Python 3",
   "language": "python",
   "name": "python3"
  },
  "language_info": {
   "codemirror_mode": {
    "name": "ipython",
    "version": 3
   },
   "file_extension": ".py",
   "mimetype": "text/x-python",
   "name": "python",
   "nbconvert_exporter": "python",
   "pygments_lexer": "ipython3",
   "version": "3.6.7"
  }
 },
 "nbformat": 4,
 "nbformat_minor": 2
}
